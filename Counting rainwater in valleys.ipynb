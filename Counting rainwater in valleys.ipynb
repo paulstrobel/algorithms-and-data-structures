{
 "cells": [
  {
   "cell_type": "markdown",
   "metadata": {},
   "source": [
    "# Counting rainwater in valleys"
   ]
  },
  {
   "cell_type": "markdown",
   "metadata": {},
   "source": [
    "#### The following algorithm counts the rain water that can accumulate in valleys.\n",
    "* A two dimensional side-view of a landscape is represented with an array.\n",
    "* Integers stand for the height of the ground at that landscape position.\n",
    "* #'s in the examples visualizations stand for the landscape.\n",
    "* X's in the examples visualizations stand for the rain water units that can accumulate in the valleys."
   ]
  },
  {
   "cell_type": "markdown",
   "metadata": {},
   "source": [
    "## Examples"
   ]
  },
  {
   "cell_type": "code",
   "execution_count": 34,
   "metadata": {
    "collapsed": false
   },
   "outputs": [],
   "source": [
    "landscape_1 = [2,1,0,4,2,3,1]\n",
    "\n",
    "#Visualization of landscape_1:\n",
    "\n",
    "   #   \n",
    "   #X# \n",
    "#XX### \n",
    "##X####\n",
    "\n",
    "landscape_2 = [3, 2, 1, 2, 3]\n",
    "\n",
    "#Visualization of landscape_2:\n",
    "\n",
    "#XXX#\n",
    "##X##\n",
    "#####\n",
    "\n",
    "landscape_3 = [1, 3, 5, 6, 2, 6, 4, 7, 3, 5, 2, 1]\n",
    "\n",
    "#Visualization of landscape_3:\n",
    "\n",
    "       #\n",
    "   #X#X#\n",
    "  ##X#X#X#\n",
    "  ##X###X#\n",
    " ###X#####\n",
    " ##########\n",
    "############"
   ]
  },
  {
   "cell_type": "markdown",
   "metadata": {},
   "source": [
    "## Implementation"
   ]
  },
  {
   "cell_type": "code",
   "execution_count": 35,
   "metadata": {
    "collapsed": true
   },
   "outputs": [],
   "source": [
    "def total_water_in_all_valleys(landscape):\n",
    "    total_water = find_valley_water(landscape, False) + find_valley_water(landscape[::-1], True)\n",
    "    print(\"Total water units in all valleys:\", total_water)\n",
    "    return total_water"
   ]
  },
  {
   "cell_type": "code",
   "execution_count": 36,
   "metadata": {
    "collapsed": true
   },
   "outputs": [],
   "source": [
    "def find_valley_water(landscape, backwards):\n",
    "    valley_start = water = 0\n",
    "    for i in range(1, len(landscape)):\n",
    "        runner = landscape[i]\n",
    "        if (runner >= landscape[valley_start] and not backwards) or (runner > landscape[valley_start] and backwards):\n",
    "            valley_end = i\n",
    "            if(valley_end - valley_start > 1):\n",
    "                water += count_water(landscape, valley_start, valley_end, backwards)\n",
    "            valley_start = valley_end\n",
    "    return water"
   ]
  },
  {
   "cell_type": "code",
   "execution_count": 37,
   "metadata": {
    "collapsed": true
   },
   "outputs": [],
   "source": [
    "def count_water(landscape, valley_start, valley_end, backwards):\n",
    "    water = 0\n",
    "    for j in range(valley_start, valley_end):\n",
    "        water += landscape[valley_start] - landscape[j]\n",
    "    if(backwards):\n",
    "        print(\"valley_start:\", len(landscape)-valley_start, \"valley_end:\", len(landscape)-valley_end, \"water:\", water)\n",
    "    else:\n",
    "        print(\"valley_start:\", valley_start, \"valley_end:\", valley_end, \"water:\", water)\n",
    "    return water"
   ]
  },
  {
   "cell_type": "markdown",
   "metadata": {},
   "source": [
    "## Test runs"
   ]
  },
  {
   "cell_type": "code",
   "execution_count": 38,
   "metadata": {
    "collapsed": false
   },
   "outputs": [
    {
     "name": "stdout",
     "output_type": "stream",
     "text": [
      "valley_start: 0 valley_end: 3 water: 3\n",
      "valley_start: 6 valley_end: 4 water: 1\n",
      "Total water units in all valleys: 4\n"
     ]
    },
    {
     "data": {
      "text/plain": [
       "4"
      ]
     },
     "execution_count": 38,
     "metadata": {},
     "output_type": "execute_result"
    }
   ],
   "source": [
    "total_water_in_all_valleys(landscape_1)"
   ]
  },
  {
   "cell_type": "code",
   "execution_count": 39,
   "metadata": {
    "collapsed": false
   },
   "outputs": [
    {
     "name": "stdout",
     "output_type": "stream",
     "text": [
      "valley_start: 0 valley_end: 4 water: 4\n",
      "Total water units in all valleys: 4\n"
     ]
    },
    {
     "data": {
      "text/plain": [
       "4"
      ]
     },
     "execution_count": 39,
     "metadata": {},
     "output_type": "execute_result"
    }
   ],
   "source": [
    "total_water_in_all_valleys(landscape_2)"
   ]
  },
  {
   "cell_type": "code",
   "execution_count": 40,
   "metadata": {
    "collapsed": false
   },
   "outputs": [
    {
     "name": "stdout",
     "output_type": "stream",
     "text": [
      "valley_start: 3 valley_end: 5 water: 4\n",
      "valley_start: 5 valley_end: 7 water: 2\n",
      "valley_start: 10 valley_end: 8 water: 2\n",
      "Total water units in all valleys: 8\n"
     ]
    },
    {
     "data": {
      "text/plain": [
       "8"
      ]
     },
     "execution_count": 40,
     "metadata": {},
     "output_type": "execute_result"
    }
   ],
   "source": [
    "total_water_in_all_valleys(landscape_3)"
   ]
  }
 ],
 "metadata": {
  "kernelspec": {
   "display_name": "Python 3",
   "language": "python",
   "name": "python3"
  },
  "language_info": {
   "codemirror_mode": {
    "name": "ipython",
    "version": 3
   },
   "file_extension": ".py",
   "mimetype": "text/x-python",
   "name": "python",
   "nbconvert_exporter": "python",
   "pygments_lexer": "ipython3",
   "version": "3.6.0"
  }
 },
 "nbformat": 4,
 "nbformat_minor": 2
}
